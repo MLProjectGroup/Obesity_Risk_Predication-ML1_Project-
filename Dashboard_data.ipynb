{
  "nbformat": 4,
  "nbformat_minor": 0,
  "metadata": {
    "colab": {
      "private_outputs": true,
      "provenance": []
    },
    "kernelspec": {
      "name": "python3",
      "display_name": "Python 3"
    },
    "language_info": {
      "name": "python"
    }
  },
  "cells": [
    {
      "cell_type": "markdown",
      "source": [
        "# **Check Tableau Dashboard from this [link](https://public.tableau.com/views/ML1_Project_Dashboard/Dashboard1?:language=en-US&:sid=&:redirect=auth&:display_count=n&:origin=viz_share_link)**"
      ],
      "metadata": {
        "id": "Ysl8k6gU_YLb"
      }
    },
    {
      "cell_type": "code",
      "execution_count": null,
      "metadata": {
        "id": "F1A_lGLsiFaR"
      },
      "outputs": [],
      "source": [
        "import pandas as pd\n",
        "import numpy as np"
      ]
    },
    {
      "cell_type": "code",
      "source": [
        "df=pd.read_csv('/content/train.csv')"
      ],
      "metadata": {
        "id": "uhQh0qK5iPo0"
      },
      "execution_count": null,
      "outputs": []
    },
    {
      "cell_type": "code",
      "source": [
        "df.isnull().sum()"
      ],
      "metadata": {
        "id": "8pVUdeZEiPl6"
      },
      "execution_count": null,
      "outputs": []
    },
    {
      "cell_type": "code",
      "source": [
        "df.rename(columns={\n",
        "    \"FAVC\": \"Frequent_consumption_of_high_caloric_food\",\n",
        "    \"FCVC\": \"Frequency_of_consumption_of_vegetables\",\n",
        "    \"NCP\": \"Number_of_main_meals\",\n",
        "    \"CAEC\": \"Consumption_of_food_between_meals\",\n",
        "    \"CH20\": \"Consumption_of_water_daily\",\n",
        "    \"CALC\": \"Alcohol_consumption\",\n",
        "    \"SCC\": \"Calorie_monitoring\",\n",
        "    \"FAF\": \"Physical_activity\",\n",
        "    \"TUE\": \"Screen_time\",\n",
        "    \"MTRANS\": \"Transportation_mode\"\n",
        "}, inplace=True)\n"
      ],
      "metadata": {
        "id": "CSLvNClNiPiq"
      },
      "execution_count": null,
      "outputs": []
    },
    {
      "cell_type": "code",
      "source": [
        "df['NCP'] = df['Number_of_main_meals'].round()\n",
        "df['Physical_activity'] = df['Physical_activity'].round()"
      ],
      "metadata": {
        "id": "RzaUDlCHipeq"
      },
      "execution_count": null,
      "outputs": []
    },
    {
      "cell_type": "code",
      "source": [
        "df.isnull().sum()"
      ],
      "metadata": {
        "id": "HU7b_4cai95f"
      },
      "execution_count": null,
      "outputs": []
    },
    {
      "cell_type": "code",
      "source": [
        "df.duplicated()"
      ],
      "metadata": {
        "collapsed": true,
        "id": "12P3-ERqjvEj"
      },
      "execution_count": null,
      "outputs": []
    },
    {
      "cell_type": "code",
      "source": [
        "# Save the cleaned dataset\n",
        "df.to_csv(\"obesity_data.csv\", index=False)\n",
        "\n",
        "# Display new column names\n",
        "print(df.columns)"
      ],
      "metadata": {
        "id": "Bcg1xKDxiPg9"
      },
      "execution_count": null,
      "outputs": []
    },
    {
      "cell_type": "markdown",
      "source": [
        "If you want to download this data set ***unhashing the below cell***"
      ],
      "metadata": {
        "id": "c3vIcJvE_6kV"
      }
    },
    {
      "cell_type": "code",
      "source": [
        "# from google.colab import files\n",
        "# files.download('obesity_data.csv')\n"
      ],
      "metadata": {
        "id": "E76VfdXcjcVB"
      },
      "execution_count": null,
      "outputs": []
    }
  ]
}