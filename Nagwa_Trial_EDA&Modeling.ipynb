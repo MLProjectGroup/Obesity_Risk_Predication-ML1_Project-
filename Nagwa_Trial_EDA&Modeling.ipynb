{
  "nbformat": 4,
  "nbformat_minor": 0,
  "metadata": {
    "colab": {
      "private_outputs": true,
      "provenance": [],
      "gpuType": "V28"
    },
    "kernelspec": {
      "name": "python3",
      "display_name": "Python 3"
    },
    "language_info": {
      "name": "python"
    },
    "accelerator": "TPU"
  },
  "cells": [
    {
      "cell_type": "code",
      "source": [
        "# #if you didnot install it before run this cell\n",
        "# !pip install xgboost"
      ],
      "metadata": {
        "collapsed": true,
        "id": "1wjPgZaDFVcl"
      },
      "execution_count": null,
      "outputs": []
    },
    {
      "cell_type": "code",
      "source": [
        "import pandas as pd\n",
        "import numpy as np\n",
        "import matplotlib.pyplot as plt\n",
        "import seaborn as sns\n",
        "\n",
        "# Data Preprocessing\n",
        "from sklearn.model_selection import train_test_split\n",
        "from sklearn.preprocessing import StandardScaler, LabelEncoder, OrdinalEncoder, OneHotEncoder\n",
        "from sklearn.impute import KNNImputer, SimpleImputer\n",
        "\n",
        "# Machine Learning Models\n",
        "from sklearn.linear_model import LogisticRegression, SGDClassifier\n",
        "from sklearn.ensemble import RandomForestClassifier, GradientBoostingClassifier\n",
        "from sklearn.tree import DecisionTreeClassifier\n",
        "from sklearn.svm import SVC, LinearSVC\n",
        "from xgboost import XGBClassifier\n",
        "\n",
        "# Model Evaluation & Tuning\n",
        "from sklearn.model_selection import GridSearchCV, RandomizedSearchCV\n",
        "from sklearn.metrics import (\n",
        "    accuracy_score, precision_score, recall_score, f1_score,\n",
        "    classification_report, confusion_matrix\n",
        ")\n",
        "from sklearn.inspection import DecisionBoundaryDisplay"
      ],
      "metadata": {
        "id": "GovMLrJ_-2u6"
      },
      "execution_count": null,
      "outputs": []
    },
    {
      "cell_type": "code",
      "source": [
        "df=pd.read_csv('/content/train.csv')"
      ],
      "metadata": {
        "id": "XIlCuI8TtBwz"
      },
      "execution_count": null,
      "outputs": []
    },
    {
      "cell_type": "code",
      "source": [
        "df.columns"
      ],
      "metadata": {
        "id": "hKyZuM5lQIBa"
      },
      "execution_count": null,
      "outputs": []
    },
    {
      "cell_type": "code",
      "source": [
        "df.isnull().sum()"
      ],
      "metadata": {
        "id": "pyskExxvRibW"
      },
      "execution_count": null,
      "outputs": []
    },
    {
      "cell_type": "code",
      "source": [
        "df.head()"
      ],
      "metadata": {
        "id": "mFEFWq39UKh8"
      },
      "execution_count": null,
      "outputs": []
    },
    {
      "cell_type": "code",
      "source": [
        "df.info()"
      ],
      "metadata": {
        "id": "1k9kj53jUlME"
      },
      "execution_count": null,
      "outputs": []
    },
    {
      "cell_type": "markdown",
      "source": [
        "Split The Data\n"
      ],
      "metadata": {
        "id": "fK8abvOb-uND"
      }
    },
    {
      "cell_type": "code",
      "source": [
        "X=df.drop('NObeyesdad',axis=1)\n",
        "y=df['NObeyesdad']"
      ],
      "metadata": {
        "id": "CyDrwTcY_Dcj"
      },
      "execution_count": null,
      "outputs": []
    },
    {
      "cell_type": "code",
      "source": [
        "X_train_val, X_test, y_train_val, y_test = train_test_split(X, y, test_size=0.2, random_state=41234)"
      ],
      "metadata": {
        "id": "ahzocLfz-t3J"
      },
      "execution_count": null,
      "outputs": []
    },
    {
      "cell_type": "code",
      "source": [
        "X_train, X_val, y_train, y_val = train_test_split(X_train_val, y_train_val, test_size=0.25, random_state=1234)"
      ],
      "metadata": {
        "id": "FV-YQg4Q_OYA"
      },
      "execution_count": null,
      "outputs": []
    },
    {
      "cell_type": "markdown",
      "source": [
        "# The Attributes:\n",
        "## Of Eating Habits:\n",
        "* Frequent consumption of high caloric food (FAVC).\n",
        "* Frequency of consumption of vegetables (FCVC).\n",
        "* Number of main meals (NCP).\n",
        "* Consumption of food between meals (CAEC).\n",
        "* Consumption of water daily (CH20).\n",
        "* Consumption of alcohol (CALC).\n",
        "\n",
        "##Of Physical Condition:\n",
        "* Calories consumption monitoring (SCC).\n",
        "* Physical activity frequency (FAF).\n",
        "* Time using technology devices (TUE).\n",
        "* Transportation used (MTRANS).\n",
        "\n"
      ],
      "metadata": {
        "id": "CGZEH1wQupTg"
      }
    },
    {
      "cell_type": "code",
      "source": [
        "X_train.head()"
      ],
      "metadata": {
        "id": "I5haPLkXtLuy"
      },
      "execution_count": null,
      "outputs": []
    },
    {
      "cell_type": "code",
      "source": [
        "X_train.info()"
      ],
      "metadata": {
        "id": "8x5Pdsqu1Azp"
      },
      "execution_count": null,
      "outputs": []
    },
    {
      "cell_type": "markdown",
      "source": [
        "#Descriptive Statistics.\n"
      ],
      "metadata": {
        "id": "Mr2sVxTaAX_V"
      }
    },
    {
      "cell_type": "code",
      "source": [
        "X_train.describe().T"
      ],
      "metadata": {
        "id": "HJcXN3Cqw9aA",
        "collapsed": true
      },
      "execution_count": null,
      "outputs": []
    },
    {
      "cell_type": "markdown",
      "source": [
        "##Demographic Data\n",
        "* **Age:**\n",
        "\n",
        "    Mean: 23.81 years.\n",
        "\n",
        "    Standard Deviation: 5.65.\n",
        "\n",
        "    Minimum Age: 14 years.\n",
        "\n",
        "    Maximum Age: 61 years.\n",
        "\n",
        "    25% of the population is below 20 years old.\n",
        "\n",
        "    75% is below 26 years old.\n",
        "\n",
        "* **Height(m):**\n",
        "\n",
        "    Mean: 1.70 m.\n",
        "\n",
        "    Standard Deviation: 0.087.\n",
        "    Minimum Height: 1.45 m.\n",
        "\n",
        "    Maximum Height: 1.98 m.\n",
        "\n",
        "    Most individuals are between 1.63 m and 1.76 m.\n",
        "* **Weight (kg):**\n",
        "\n",
        "    Mean: 87.81 kg.\n",
        "\n",
        "    Standard Deviation: 26.36 kg.\n",
        "\n",
        "    Minimum Weight: 39 kg.\n",
        "\n",
        "    Maximum Weight: 165.06 kg.\n",
        "\n",
        "    75th percentile is 111.6 kg.--> indicating a high proportion of individuals with overweight or obesity."
      ],
      "metadata": {
        "id": "lD2HHW1kAjct"
      }
    },
    {
      "cell_type": "markdown",
      "source": [
        "##Habits Of Eat.\n",
        "* **Frequency of Vegetable Consumption (FCVC):** (Scale: 1-3)\n",
        "\n",
        "    Mean: 2.44.\n",
        "\n",
        "    Standard Deviation: 0.53.\n",
        "   \n",
        "    75th percentile = 3.00.\n",
        "\n",
        "    *Most individuals have a moderate to high vegetable consumption.*\n",
        "\n",
        "* **Number of Main Meals per Day (NCP)** (Scale: 1-4)\n",
        "\n",
        "    Mean: 2.76 meals/day.\n",
        "\n",
        "    Standard Deviation: 0.71.\n",
        "\n",
        "    50% of the population eats 3 meals daily, with some individuals consuming only one meal per day (min) or up to four meals per day (max).\n",
        "\n",
        "* **Daily Water Consumption (CH2O):** (Scale: 1-3)\n",
        "\n",
        "    Mean: 2.03.\n",
        "\n",
        "    Standard Deviation: 0.61.\n",
        "\n",
        "    25% of individuals consume less than 1.8 liters of water per day, while the majority consume 2+ liters.\n"
      ],
      "metadata": {
        "id": "TJUdPeCdCq6f"
      }
    },
    {
      "cell_type": "markdown",
      "source": [
        "##Physical Activity & Techonology usage.\n",
        "* **physical Activity Frequency (FAF):** (Scale: 0-3)\n",
        "\n",
        "    Mean: 0.98.\n",
        "\n",
        "    Standard Deviation: 0.84.\n",
        "\n",
        "    Half of the population has low physical activity levels ,with some individuals having zero physical activity.\n",
        "\n",
        "* **Time Spent Using Technology (TUE):** (Scale: 0-2)\n",
        "\n",
        "    Mean: 0.61.\n",
        "\n",
        "    Standard Deviation: 0.60.\n",
        "    \n",
        "    50% of individuals spend around 0.57 hours daily on devices, while some spend up to 2 hours per day."
      ],
      "metadata": {
        "id": "hIUKhd3UEWv5"
      }
    },
    {
      "cell_type": "markdown",
      "source": [
        "# EDA\n"
      ],
      "metadata": {
        "id": "K25NFe5R_Z8f"
      }
    },
    {
      "cell_type": "markdown",
      "source": [
        "## Univariant Analysis."
      ],
      "metadata": {
        "id": "Bc6g2KsL_nB0"
      }
    },
    {
      "cell_type": "code",
      "source": [
        "# Distribution of 'Age'\n",
        "plt.figure(figsize=(8, 6))\n",
        "sns.histplot(X_train['Age'], kde=True)\n",
        "plt.title('Distribution of Age')\n",
        "plt.xlabel('Age')\n",
        "plt.ylabel('Frequency')\n",
        "plt.show()\n",
        "\n"
      ],
      "metadata": {
        "id": "G3QZfwpi4Knt",
        "collapsed": true
      },
      "execution_count": null,
      "outputs": []
    },
    {
      "cell_type": "code",
      "source": [
        "# Boxplot of 'Height'\n",
        "plt.figure(figsize=(8, 6))\n",
        "sns.boxplot(y=X_train['Height'])\n",
        "plt.title('Boxplot of Height')\n",
        "plt.ylabel('Height')\n",
        "plt.show()\n"
      ],
      "metadata": {
        "id": "6NgdebAg4eiM",
        "collapsed": true
      },
      "execution_count": null,
      "outputs": []
    },
    {
      "cell_type": "code",
      "source": [
        "# Countplot of 'Gender'\n",
        "plt.figure(figsize=(8, 6))\n",
        "sns.countplot(x='Gender', data=X_train)\n",
        "plt.title('Countplot of Gender')\n",
        "plt.xlabel('Gender')\n",
        "plt.ylabel('Count')\n",
        "plt.show()"
      ],
      "metadata": {
        "id": "R-_Dg77J4mvC",
        "collapsed": true
      },
      "execution_count": null,
      "outputs": []
    },
    {
      "cell_type": "code",
      "source": [
        "# Boxplot of 'Weight'\n",
        "plt.figure(figsize=(8,6))\n",
        "sns.boxplot(y=X_train['Weight'])\n",
        "plt.title('Boxplot of Weight')\n",
        "plt.ylabel('Weight')\n",
        "plt.show()\n"
      ],
      "metadata": {
        "id": "d4yj2bdq5DJf",
        "collapsed": true
      },
      "execution_count": null,
      "outputs": []
    },
    {
      "cell_type": "code",
      "source": [
        "# Countplot of 'family_history_with_overweight'\n",
        "plt.figure(figsize=(8,6))\n",
        "sns.countplot(x='family_history_with_overweight', data=X_train)\n",
        "plt.title('Countplot of Family History with Overweight')\n",
        "plt.xlabel('Family History with Overweight')\n",
        "plt.ylabel('Count')\n",
        "plt.show()"
      ],
      "metadata": {
        "id": "DntjHb3k5PEs",
        "collapsed": true
      },
      "execution_count": null,
      "outputs": []
    },
    {
      "cell_type": "code",
      "source": [
        "# Distribution of 'FCVC'\n",
        "plt.figure(figsize=(8,6))\n",
        "sns.histplot(X_train['FCVC'], kde=True)\n",
        "plt.title('Distribution of Frequency of Consumption of Vegetables')\n",
        "plt.xlabel('FCVC')\n",
        "plt.ylabel('Frequency')\n",
        "plt.show()"
      ],
      "metadata": {
        "id": "blI-ABQv5dGq",
        "collapsed": true
      },
      "execution_count": null,
      "outputs": []
    },
    {
      "cell_type": "code",
      "source": [
        "# Distribution of 'NCP'\n",
        "plt.figure(figsize=(8,6))\n",
        "sns.histplot(X_train['NCP'], kde=True)\n",
        "plt.title('Distribution of Number of main meals')\n",
        "plt.xlabel('NCP')\n",
        "plt.ylabel('Frequency')\n",
        "plt.show()"
      ],
      "metadata": {
        "id": "WkHmkVc65mKH",
        "collapsed": true
      },
      "execution_count": null,
      "outputs": []
    },
    {
      "cell_type": "code",
      "source": [
        "# Distribution of 'CH2O'\n",
        "plt.figure(figsize=(8,6))\n",
        "sns.histplot(X_train['CH2O'], kde=True)\n",
        "plt.title('Distribution of Daily Water Consumption')\n",
        "plt.xlabel('CH2O')\n",
        "plt.ylabel('Frequency')\n",
        "plt.show()"
      ],
      "metadata": {
        "id": "kUFku6n66FVD",
        "collapsed": true
      },
      "execution_count": null,
      "outputs": []
    },
    {
      "cell_type": "code",
      "source": [
        "# Distribution of 'TUE'\n",
        "plt.figure(figsize=(8,6))\n",
        "sns.histplot(X_train['TUE'], kde=True)\n",
        "plt.title('Distribution of Time using technology devices')\n",
        "plt.xlabel('TUE')\n",
        "plt.ylabel('Frequency')\n",
        "plt.show()\n"
      ],
      "metadata": {
        "id": "4RZ5vHvD-B1h",
        "collapsed": true
      },
      "execution_count": null,
      "outputs": []
    },
    {
      "cell_type": "code",
      "source": [
        "# Distribution of 'FAF'\n",
        "plt.figure(figsize=(8,6))\n",
        "sns.histplot(X_train['FAF'], kde=True)\n",
        "plt.title('Distribution of Physical Activity Frequency')\n",
        "plt.xlabel('FAF')\n",
        "plt.ylabel('Frequency')\n",
        "plt.show()\n"
      ],
      "metadata": {
        "id": "pOnzL6Ec-UU7",
        "collapsed": true
      },
      "execution_count": null,
      "outputs": []
    },
    {
      "cell_type": "code",
      "source": [
        "# Distribution of 'CALC'\n",
        "plt.figure(figsize=(8,6))\n",
        "sns.histplot(X_train['CALC'], kde=True)\n",
        "plt.title('Distribution of Alcohol Consumption')\n",
        "plt.xlabel('CALC')\n",
        "plt.ylabel('Frequency')\n",
        "plt.show()\n"
      ],
      "metadata": {
        "id": "DkjZpDxH-ccu",
        "collapsed": true
      },
      "execution_count": null,
      "outputs": []
    },
    {
      "cell_type": "code",
      "source": [
        "for col in ['FAVC', 'CAEC', 'SMOKE', 'SCC', 'CALC', 'MTRANS']:\n",
        "  plt.figure(figsize=(8, 6))\n",
        "  sns.countplot(x=col, data=X_train)\n",
        "  plt.title(f'Countplot of {col}')\n",
        "  plt.xlabel(col)\n",
        "  plt.ylabel('Count')\n",
        "  plt.xticks(rotation=45, ha='right')\n",
        "  plt.show()"
      ],
      "metadata": {
        "id": "QgRyQ-3w5klF",
        "collapsed": true
      },
      "execution_count": null,
      "outputs": []
    },
    {
      "cell_type": "code",
      "source": [
        "X_train.duplicated().sum()"
      ],
      "metadata": {
        "collapsed": true,
        "id": "ZXqp_kdz9a_P"
      },
      "execution_count": null,
      "outputs": []
    },
    {
      "cell_type": "code",
      "source": [
        "X_train=X_train.drop(['id','SCC','SMOKE'], axis=1)"
      ],
      "metadata": {
        "id": "DxZp9y4zAufE"
      },
      "execution_count": null,
      "outputs": []
    },
    {
      "cell_type": "code",
      "source": [
        "num_col=X_train.select_dtypes(include=['number'])\n",
        "num_col.columns"
      ],
      "metadata": {
        "id": "KJAybUGE-FF_"
      },
      "execution_count": null,
      "outputs": []
    },
    {
      "cell_type": "code",
      "source": [
        "sc=StandardScaler()\n",
        "X_train[num_col.columns]=sc.fit_transform(X_train[num_col.columns])\n",
        "X_test[num_col.columns]=sc.transform(X_test[num_col.columns])\n",
        "X_val[num_col.columns]=sc.transform(X_val[num_col.columns])"
      ],
      "metadata": {
        "collapsed": true,
        "id": "foQsXDImBIGf"
      },
      "execution_count": null,
      "outputs": []
    },
    {
      "cell_type": "markdown",
      "source": [
        "Preprocessing on train data"
      ],
      "metadata": {
        "id": "0LPqnUfNBZVn"
      }
    },
    {
      "cell_type": "code",
      "source": [
        "cat_cols=X_train.select_dtypes(include=['object'])\n",
        "cat_cols.columns"
      ],
      "metadata": {
        "id": "QAGUciyICEhQ"
      },
      "execution_count": null,
      "outputs": []
    },
    {
      "cell_type": "code",
      "source": [
        "for col in (X_train.select_dtypes(include=['object']).columns):\n",
        "   print(col,':',X_train[col].unique())"
      ],
      "metadata": {
        "collapsed": true,
        "id": "PHkwHRMw9ddc"
      },
      "execution_count": null,
      "outputs": []
    },
    {
      "cell_type": "code",
      "source": [
        "X_train['NCP'] = X_train['NCP'].round()\n",
        "X_train['FAF'] = X_train['FAF'].round()"
      ],
      "metadata": {
        "id": "sHCldfD4FLxF"
      },
      "execution_count": null,
      "outputs": []
    },
    {
      "cell_type": "code",
      "source": [
        "binary_col= ['family_history_with_overweight', 'FAVC','Gender']\n",
        "for col in binary_col:\n",
        "    encoder = LabelEncoder()\n",
        "    X_train[col] = encoder.fit_transform(X_train[col])\n",
        "    X_test[col] = encoder.transform(X_test[col])\n",
        "    X_val[col] = encoder.transform(X_val[col])"
      ],
      "metadata": {
        "id": "i5oTU7n-FtaS"
      },
      "execution_count": null,
      "outputs": []
    },
    {
      "cell_type": "code",
      "source": [
        "ordinal_features = ['CAEC', 'CALC']\n",
        "categories = [\n",
        "    ['no', 'Sometimes', 'Frequently', 'Always'],\n",
        "    ['no', 'Sometimes', 'Frequently']\n",
        "]\n",
        "encoder_ord = OrdinalEncoder(categories=categories)\n",
        "X_train[ordinal_features] = encoder_ord.fit_transform(X_train[ordinal_features])\n",
        "X_train[ordinal_features] = X_train[ordinal_features].astype(int)"
      ],
      "metadata": {
        "id": "TWJ2os0oIG98"
      },
      "execution_count": null,
      "outputs": []
    },
    {
      "cell_type": "code",
      "source": [
        "columns_to_encode = ['Gender', 'family_history_with_overweight', 'FAVC', 'MTRANS']\n",
        "\n",
        "encoder = OneHotEncoder(drop=\"first\", sparse_output=False)\n",
        "\n",
        "x_train_onehot = encoder.fit_transform(X_train[columns_to_encode])\n",
        "onehot_columns = encoder.get_feature_names_out(columns_to_encode)\n",
        "\n",
        "onehot_df = pd.DataFrame(x_train_onehot, columns= onehot_columns, index=X_train.index)\n",
        "\n",
        "X_train = X_train.drop(columns=columns_to_encode)\n",
        "\n",
        "X_train = pd.concat([X_train, onehot_df], axis=1)\n"
      ],
      "metadata": {
        "id": "8qmJX-z-H2w6"
      },
      "execution_count": null,
      "outputs": []
    },
    {
      "cell_type": "code",
      "source": [
        "encoder_label = LabelEncoder()\n",
        "y_train = encoder_label.fit_transform(y_train)"
      ],
      "metadata": {
        "id": "LAlwHMErA7xl"
      },
      "execution_count": null,
      "outputs": []
    },
    {
      "cell_type": "code",
      "source": [
        "scaler = StandardScaler()\n",
        "X_train = scaler.fit_transform(X_train)"
      ],
      "metadata": {
        "id": "UyUuq5vRBq1U"
      },
      "execution_count": null,
      "outputs": []
    },
    {
      "cell_type": "markdown",
      "source": [
        "Preprocessing on Valdiation data"
      ],
      "metadata": {
        "id": "ZoRdhu30Bw4B"
      }
    },
    {
      "cell_type": "code",
      "source": [
        "X_val = X_val.drop([\"id\",\"SMOKE\",\"SCC\"],axis=1)"
      ],
      "metadata": {
        "id": "IwDGTnRXBs9n"
      },
      "execution_count": null,
      "outputs": []
    },
    {
      "cell_type": "code",
      "source": [
        "X_val['NCP'] = X_val['NCP'].round()\n",
        "X_val['FAF'] = X_val['FAF'].round()"
      ],
      "metadata": {
        "id": "nN8c-vOmBuA8"
      },
      "execution_count": null,
      "outputs": []
    },
    {
      "cell_type": "code",
      "source": [
        "ordinal_features = ['CAEC', 'CALC']\n",
        "categories = [\n",
        "    ['no', 'Sometimes', 'Frequently', 'Always'],\n",
        "    ['no', 'Sometimes', 'Frequently']\n",
        "]\n",
        "X_val[ordinal_features] = encoder_ord.transform(X_val[ordinal_features])\n",
        "X_val[ordinal_features] = X_val[ordinal_features].astype(int)\n"
      ],
      "metadata": {
        "id": "ah8QyGgiBt9t"
      },
      "execution_count": null,
      "outputs": []
    },
    {
      "cell_type": "code",
      "source": [
        "columns_to_encode = ['Gender', 'family_history_with_overweight', 'FAVC', 'MTRANS']\n",
        "\n",
        "X_val_onehot = encoder.transform(X_val[columns_to_encode])\n",
        "onehot_columns = encoder.get_feature_names_out(columns_to_encode)\n",
        "\n",
        "onehot_df = pd.DataFrame(X_val_onehot, columns= onehot_columns, index=X_val.index)\n",
        "\n",
        "X_val = X_val.drop(columns=columns_to_encode)\n",
        "\n",
        "X_val = pd.concat([X_val, onehot_df], axis=1)\n"
      ],
      "metadata": {
        "id": "y6E9vG6_B-Lf"
      },
      "execution_count": null,
      "outputs": []
    },
    {
      "cell_type": "code",
      "source": [
        "encoder_label = LabelEncoder()\n",
        "y_val = encoder_label.fit_transform(y_val)"
      ],
      "metadata": {
        "id": "wMhcYQFUBt7t"
      },
      "execution_count": null,
      "outputs": []
    },
    {
      "cell_type": "code",
      "source": [
        "X_val = scaler.transform(X_val)"
      ],
      "metadata": {
        "id": "itBSLZe6CCeN"
      },
      "execution_count": null,
      "outputs": []
    },
    {
      "cell_type": "markdown",
      "source": [
        "# **Modeling**\n"
      ],
      "metadata": {
        "id": "8lCBaG_SCHzZ"
      }
    },
    {
      "cell_type": "markdown",
      "source": [
        "**Logistic Regression**"
      ],
      "metadata": {
        "id": "htBxexrlCWt_"
      }
    },
    {
      "cell_type": "code",
      "source": [
        "clf = LogisticRegression(max_iter=10000, random_state=0)\n",
        "clf.fit(X_train, y_train)\n",
        "y_pred=clf.predict(X_val)\n",
        "acc = accuracy_score(y_val,y_pred ) * 100\n",
        "print(\"Accuracy on valdation=\",acc)"
      ],
      "metadata": {
        "id": "haj3ei46CCbL"
      },
      "execution_count": null,
      "outputs": []
    },
    {
      "cell_type": "markdown",
      "source": [
        "**Support Vector Machine**"
      ],
      "metadata": {
        "id": "9IKIfe5TCcqW"
      }
    },
    {
      "cell_type": "code",
      "source": [
        "svm = SVC(kernel=\"rbf\", gamma=0.5, C=1.0)\n",
        "svm.fit(X_train,y_train)\n",
        "y_pred = svm.predict(X_val)\n",
        "score=svm.score(X_train, y_train)\n",
        "print(\"Training score: \",score)\n",
        "\n",
        "score=svm.score(X_val, y_val)\n",
        "print(\"Valdiation: \",score)\n",
        "\n",
        "print(classification_report(y_pred, y_val))"
      ],
      "metadata": {
        "id": "MVC4c4UDCcaX"
      },
      "execution_count": null,
      "outputs": []
    },
    {
      "cell_type": "markdown",
      "source": [
        "**Decision Tree**"
      ],
      "metadata": {
        "id": "LuYCXFYyCyFF"
      }
    },
    {
      "cell_type": "code",
      "source": [
        "DT = DecisionTreeClassifier(max_depth = 9, random_state=42)\n",
        "DT.fit(X_train, y_train)\n",
        "y_pred=DT.predict(X_val)\n",
        "score=DT.score(X_train, y_train)\n",
        "print(\"Accuracy onTrain: \",score)\n",
        "\n",
        "accuracy = accuracy_score(y_val, y_pred)\n",
        "print(\"Accuracy on Valdation:\",accuracy)"
      ],
      "metadata": {
        "id": "PEZonCXoCyRY"
      },
      "execution_count": null,
      "outputs": []
    },
    {
      "cell_type": "markdown",
      "source": [
        "**Random Forest**"
      ],
      "metadata": {
        "id": "Ox_N18kJDBPa"
      }
    },
    {
      "cell_type": "code",
      "source": [
        "classifier = RandomForestClassifier(n_estimators=100, random_state=42)\n",
        "classifier.fit(X_train, y_train)\n",
        "y_pred = classifier.predict(X_val)\n",
        "\n",
        "accuracy = accuracy_score(y_val, y_pred)\n",
        "print(f'Accuracy on Valdation: {accuracy * 100:.2f}%')"
      ],
      "metadata": {
        "id": "63GVrOWwDBcj"
      },
      "execution_count": null,
      "outputs": []
    },
    {
      "cell_type": "markdown",
      "source": [
        "**GradientBoosting**"
      ],
      "metadata": {
        "id": "zgs6UCzXDM3u"
      }
    },
    {
      "cell_type": "code",
      "source": [
        "gb = GradientBoostingClassifier(n_estimators = 150)\n",
        "gb.fit(X_train, y_train)\n",
        "y_pred = gb.predict(X_val)\n",
        "score=gb.score(X_train, y_train)\n",
        "print(\"Training score: \",score)\n",
        "\n",
        "report=classification_report(y_val, y_pred)\n",
        "print(\"\\nClassification Report:\")\n",
        "print(report)\n"
      ],
      "metadata": {
        "id": "r5o3WE7dDMc_"
      },
      "execution_count": null,
      "outputs": []
    },
    {
      "cell_type": "markdown",
      "source": [
        "**XGBosot**"
      ],
      "metadata": {
        "id": "2CCsbIIoDgEt"
      }
    },
    {
      "cell_type": "code",
      "source": [
        "xgb = XGBClassifier(n_estimators=100, random_state=42)\n",
        "xgb.fit(X_train, y_train)\n",
        "y_pred = xgb.predict(X_val)\n",
        "accuracy = accuracy_score(y_val, y_pred)\n",
        "print(f'Accuracy on Valdation: {accuracy * 100:.2f}%')"
      ],
      "metadata": {
        "id": "Q5lYScb7Dflk"
      },
      "execution_count": null,
      "outputs": []
    },
    {
      "cell_type": "markdown",
      "source": [
        "**Generalization**"
      ],
      "metadata": {
        "id": "Dzf5Gb0tDyGh"
      }
    },
    {
      "cell_type": "code",
      "source": [
        "params = {'n_estimators': [100, 200, 300],\n",
        "         'learning_rate': [0.1, 0.01, 0.001],\n",
        "         'max_depth': [3, 6, 9]}\n",
        "\n",
        "score = 'accuracy'"
      ],
      "metadata": {
        "id": "t_NS6ZoXD2wf"
      },
      "execution_count": null,
      "outputs": []
    },
    {
      "cell_type": "code",
      "source": [
        "model_xgb = GridSearchCV(xgb, params, scoring = score, n_jobs = -1)\n",
        "model_xgb.fit(X_train, y_train)\n",
        "print(model_xgb.best_params_)\n",
        "print(model_xgb.best_score_)"
      ],
      "metadata": {
        "id": "lx_0MQOZD48Y"
      },
      "execution_count": null,
      "outputs": []
    }
  ]
}